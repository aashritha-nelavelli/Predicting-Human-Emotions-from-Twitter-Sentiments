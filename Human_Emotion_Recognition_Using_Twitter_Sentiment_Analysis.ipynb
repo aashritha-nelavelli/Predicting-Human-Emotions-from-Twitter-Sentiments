{
  "cells": [
    {
      "cell_type": "markdown",
      "id": "cf9c8576",
      "metadata": {
        "id": "cf9c8576"
      },
      "source": [
        "## HUMAN EMOTION RECOGNITION USING TWITTER SENTIMENT ANALYSIS"
      ]
    },
    {
      "cell_type": "markdown",
      "id": "99b590a3",
      "metadata": {
        "id": "99b590a3"
      },
      "source": [
        "### Importing required libraries\n",
        "The very first step of any analysis or model building project is to identify and import the necessary libraries and modules into the project file. Here, since we are using Python, we make use of the following libraries:\n",
        "* Pandas : For loading the dataset and cleaning it\n",
        "* Matplotlib and Seaborn : Data Visualisations\n",
        "* ntlk toolkit: For performing lemmetization\n",
        "* Skitlearn : For model building"
      ]
    },
    {
      "cell_type": "code",
      "execution_count": null,
      "id": "ad69bdb8",
      "metadata": {
        "id": "ad69bdb8",
        "outputId": "6875307e-d314-4fa9-c9ad-9727e48ef0dd"
      },
      "outputs": [
        {
          "name": "stdout",
          "output_type": "stream",
          "text": [
            "Requirement already satisfied: xgboost in c:\\users\\admin\\anaconda3\\lib\\site-packages (1.6.2)\n",
            "Requirement already satisfied: scipy in c:\\users\\admin\\anaconda3\\lib\\site-packages (from xgboost) (1.7.1)\n",
            "Requirement already satisfied: numpy in c:\\users\\admin\\anaconda3\\lib\\site-packages (from xgboost) (1.20.3)\n"
          ]
        }
      ],
      "source": [
        "# utilities\n",
        "import re\n",
        "import numpy as np\n",
        "import pandas as pd\n",
        "\n",
        "# plotting\n",
        "import seaborn as sns\n",
        "import matplotlib.pyplot as plt\n",
        "\n",
        "\n",
        "# nltk\n",
        "import nltk\n",
        "from nltk.stem import WordNetLemmatizer\n",
        "\n",
        "# sklearn\n",
        "from sklearn.linear_model import LogisticRegression\n",
        "!pip install xgboost\n",
        "from xgboost import XGBClassifier\n",
        "from sklearn.model_selection import train_test_split\n",
        "from sklearn.feature_extraction.text import TfidfVectorizer\n",
        "from sklearn.metrics import confusion_matrix\n",
        "\n",
        "#metrics\n",
        "from sklearn.metrics import accuracy_score, f1_score,precision_score,recall_score\n",
        "\n",
        "#import warnings\n",
        "import warnings\n",
        "warnings.filterwarnings('ignore')"
      ]
    },
    {
      "cell_type": "markdown",
      "id": "5ba25a7a",
      "metadata": {
        "id": "5ba25a7a"
      },
      "source": [
        "###  Loading the dataset\n"
      ]
    },
    {
      "cell_type": "code",
      "execution_count": null,
      "id": "de2c60a2",
      "metadata": {
        "id": "de2c60a2",
        "outputId": "c8ef90de-67cb-493b-c9af-7c8bc82cd476"
      },
      "outputs": [
        {
          "data": {
            "text/html": [
              "<div>\n",
              "<style scoped>\n",
              "    .dataframe tbody tr th:only-of-type {\n",
              "        vertical-align: middle;\n",
              "    }\n",
              "\n",
              "    .dataframe tbody tr th {\n",
              "        vertical-align: top;\n",
              "    }\n",
              "\n",
              "    .dataframe thead th {\n",
              "        text-align: right;\n",
              "    }\n",
              "</style>\n",
              "<table border=\"1\" class=\"dataframe\">\n",
              "  <thead>\n",
              "    <tr style=\"text-align: right;\">\n",
              "      <th></th>\n",
              "      <th>target</th>\n",
              "      <th>ids</th>\n",
              "      <th>date</th>\n",
              "      <th>flag</th>\n",
              "      <th>user</th>\n",
              "      <th>text</th>\n",
              "    </tr>\n",
              "  </thead>\n",
              "  <tbody>\n",
              "    <tr>\n",
              "      <th>322497</th>\n",
              "      <td>0</td>\n",
              "      <td>2004408075</td>\n",
              "      <td>Tue Jun 02 08:09:19 PDT 2009</td>\n",
              "      <td>NO_QUERY</td>\n",
              "      <td>SpunkyEclectic</td>\n",
              "      <td>@helloyarn no.  They say it won't ship until a...</td>\n",
              "    </tr>\n",
              "    <tr>\n",
              "      <th>721337</th>\n",
              "      <td>0</td>\n",
              "      <td>2261163388</td>\n",
              "      <td>Sat Jun 20 20:21:39 PDT 2009</td>\n",
              "      <td>NO_QUERY</td>\n",
              "      <td>mhsteller</td>\n",
              "      <td>Not happy.  Just lost Mia's sensor, and it's o...</td>\n",
              "    </tr>\n",
              "    <tr>\n",
              "      <th>645797</th>\n",
              "      <td>0</td>\n",
              "      <td>2236369709</td>\n",
              "      <td>Fri Jun 19 03:32:06 PDT 2009</td>\n",
              "      <td>NO_QUERY</td>\n",
              "      <td>katemate09</td>\n",
              "      <td>@DeepyJo woooooohoooo! Congratulations wish I ...</td>\n",
              "    </tr>\n",
              "    <tr>\n",
              "      <th>736748</th>\n",
              "      <td>0</td>\n",
              "      <td>2265076898</td>\n",
              "      <td>Sun Jun 21 05:43:45 PDT 2009</td>\n",
              "      <td>NO_QUERY</td>\n",
              "      <td>Delta257</td>\n",
              "      <td>@talzgir saaaaaaaaaaaaaaaaaaaaad  sunday is ov...</td>\n",
              "    </tr>\n",
              "    <tr>\n",
              "      <th>1484023</th>\n",
              "      <td>4</td>\n",
              "      <td>2067586963</td>\n",
              "      <td>Sun Jun 07 12:36:30 PDT 2009</td>\n",
              "      <td>NO_QUERY</td>\n",
              "      <td>alexmcadams</td>\n",
              "      <td>Driving home. Won't be back in Oxford again un...</td>\n",
              "    </tr>\n",
              "  </tbody>\n",
              "</table>\n",
              "</div>"
            ],
            "text/plain": [
              "         target         ids                          date      flag  \\\n",
              "322497        0  2004408075  Tue Jun 02 08:09:19 PDT 2009  NO_QUERY   \n",
              "721337        0  2261163388  Sat Jun 20 20:21:39 PDT 2009  NO_QUERY   \n",
              "645797        0  2236369709  Fri Jun 19 03:32:06 PDT 2009  NO_QUERY   \n",
              "736748        0  2265076898  Sun Jun 21 05:43:45 PDT 2009  NO_QUERY   \n",
              "1484023       4  2067586963  Sun Jun 07 12:36:30 PDT 2009  NO_QUERY   \n",
              "\n",
              "                   user                                               text  \n",
              "322497   SpunkyEclectic  @helloyarn no.  They say it won't ship until a...  \n",
              "721337        mhsteller  Not happy.  Just lost Mia's sensor, and it's o...  \n",
              "645797       katemate09  @DeepyJo woooooohoooo! Congratulations wish I ...  \n",
              "736748         Delta257  @talzgir saaaaaaaaaaaaaaaaaaaaad  sunday is ov...  \n",
              "1484023     alexmcadams  Driving home. Won't be back in Oxford again un...  "
            ]
          },
          "execution_count": 120,
          "metadata": {},
          "output_type": "execute_result"
        }
      ],
      "source": [
        "# Importing the dataset\n",
        "DATASET_COLUMNS=['target','ids','date','flag','user','text']\n",
        "DATASET_ENCODING = \"ISO-8859-1\"\n",
        "\n",
        "df = pd.read_csv(\"E:\\\\Twitter Sentiment Analysis.csv\",encoding=DATASET_ENCODING, names=DATASET_COLUMNS)\n",
        "df.sample(5)"
      ]
    },
    {
      "cell_type": "markdown",
      "id": "97ea45cc",
      "metadata": {
        "id": "97ea45cc"
      },
      "source": [
        "### Performing Exploratory Data Analysis\n",
        "This involves exploring the dataset and identifying its key features."
      ]
    },
    {
      "cell_type": "code",
      "execution_count": null,
      "id": "91f30ce2",
      "metadata": {
        "scrolled": false,
        "id": "91f30ce2",
        "outputId": "5059d28e-3167-4fa1-ae2f-68b28335c05c"
      },
      "outputs": [
        {
          "name": "stdout",
          "output_type": "stream",
          "text": [
            "   target         ids                          date      flag  \\\n",
            "0       0  1467810369  Mon Apr 06 22:19:45 PDT 2009  NO_QUERY   \n",
            "1       0  1467810672  Mon Apr 06 22:19:49 PDT 2009  NO_QUERY   \n",
            "2       0  1467810917  Mon Apr 06 22:19:53 PDT 2009  NO_QUERY   \n",
            "3       0  1467811184  Mon Apr 06 22:19:57 PDT 2009  NO_QUERY   \n",
            "4       0  1467811193  Mon Apr 06 22:19:57 PDT 2009  NO_QUERY   \n",
            "\n",
            "              user                                               text  \n",
            "0  _TheSpecialOne_  @switchfoot http://twitpic.com/2y1zl - Awww, t...  \n",
            "1    scotthamilton  is upset that he can't update his Facebook by ...  \n",
            "2         mattycus  @Kenichan I dived many times for the ball. Man...  \n",
            "3          ElleCTF    my whole body feels itchy and like its on fire   \n",
            "4           Karoli  @nationwideclass no, it's not behaving at all....  \n"
          ]
        }
      ],
      "source": [
        "print(df.head(5))    #top 5 rows of the dataframe"
      ]
    },
    {
      "cell_type": "code",
      "execution_count": null,
      "id": "e8d5384e",
      "metadata": {
        "id": "e8d5384e",
        "outputId": "b7d525d9-841c-4d47-8065-7f8a7b9b6fd3"
      },
      "outputs": [
        {
          "name": "stdout",
          "output_type": "stream",
          "text": [
            "<bound method NDFrame.describe of          target         ids                          date      flag  \\\n",
            "0             0  1467810369  Mon Apr 06 22:19:45 PDT 2009  NO_QUERY   \n",
            "1             0  1467810672  Mon Apr 06 22:19:49 PDT 2009  NO_QUERY   \n",
            "2             0  1467810917  Mon Apr 06 22:19:53 PDT 2009  NO_QUERY   \n",
            "3             0  1467811184  Mon Apr 06 22:19:57 PDT 2009  NO_QUERY   \n",
            "4             0  1467811193  Mon Apr 06 22:19:57 PDT 2009  NO_QUERY   \n",
            "...         ...         ...                           ...       ...   \n",
            "1599995       4  2193601966  Tue Jun 16 08:40:49 PDT 2009  NO_QUERY   \n",
            "1599996       4  2193601969  Tue Jun 16 08:40:49 PDT 2009  NO_QUERY   \n",
            "1599997       4  2193601991  Tue Jun 16 08:40:49 PDT 2009  NO_QUERY   \n",
            "1599998       4  2193602064  Tue Jun 16 08:40:49 PDT 2009  NO_QUERY   \n",
            "1599999       4  2193602129  Tue Jun 16 08:40:50 PDT 2009  NO_QUERY   \n",
            "\n",
            "                    user                                               text  \n",
            "0        _TheSpecialOne_  @switchfoot http://twitpic.com/2y1zl - Awww, t...  \n",
            "1          scotthamilton  is upset that he can't update his Facebook by ...  \n",
            "2               mattycus  @Kenichan I dived many times for the ball. Man...  \n",
            "3                ElleCTF    my whole body feels itchy and like its on fire   \n",
            "4                 Karoli  @nationwideclass no, it's not behaving at all....  \n",
            "...                  ...                                                ...  \n",
            "1599995  AmandaMarie1028  Just woke up. Having no school is the best fee...  \n",
            "1599996      TheWDBoards  TheWDB.com - Very cool to hear old Walt interv...  \n",
            "1599997           bpbabe  Are you ready for your MoJo Makeover? Ask me f...  \n",
            "1599998     tinydiamondz  Happy 38th Birthday to my boo of alll time!!! ...  \n",
            "1599999   RyanTrevMorris  happy #charitytuesday @theNSPCC @SparksCharity...  \n",
            "\n",
            "[1600000 rows x 6 columns]>\n"
          ]
        }
      ],
      "source": [
        "print(df.describe)       #gives summary of the data present in the dataframe"
      ]
    },
    {
      "cell_type": "code",
      "execution_count": null,
      "id": "8639651e",
      "metadata": {
        "id": "8639651e",
        "outputId": "cf57e1b1-903a-47fa-e3b2-936c6b4fdfb5"
      },
      "outputs": [
        {
          "name": "stdout",
          "output_type": "stream",
          "text": [
            "(1600000, 6)\n"
          ]
        }
      ],
      "source": [
        "print(df.shape)      #returns the shape of the dataset"
      ]
    },
    {
      "cell_type": "code",
      "execution_count": null,
      "id": "dec8e97b",
      "metadata": {
        "id": "dec8e97b",
        "outputId": "4dbec7a5-5222-4bd5-928c-5a2634fbd4d7"
      },
      "outputs": [
        {
          "name": "stdout",
          "output_type": "stream",
          "text": [
            "target     int64\n",
            "ids        int64\n",
            "date      object\n",
            "flag      object\n",
            "user      object\n",
            "text      object\n",
            "dtype: object\n"
          ]
        }
      ],
      "source": [
        "print(df.dtypes)     #returns the dtypes of the data present in each column"
      ]
    },
    {
      "cell_type": "code",
      "execution_count": null,
      "id": "598e57e6",
      "metadata": {
        "id": "598e57e6",
        "outputId": "877927f8-43fe-4475-a9fe-b7984e8e69a0"
      },
      "outputs": [
        {
          "name": "stdout",
          "output_type": "stream",
          "text": [
            "No. of rows in the dataset:  1600000\n",
            "No. of columns in the dataset:  6\n"
          ]
        }
      ],
      "source": [
        "#no. of rows and columns in the dataset\n",
        "print('No. of rows in the dataset: ',len(df))\n",
        "print('No. of columns in the dataset: ',len(df.columns))"
      ]
    },
    {
      "cell_type": "code",
      "execution_count": null,
      "id": "b2d87dd7",
      "metadata": {
        "id": "b2d87dd7",
        "outputId": "1560f05f-7a00-4d92-a988-340833aff005"
      },
      "outputs": [
        {
          "name": "stdout",
          "output_type": "stream",
          "text": [
            "Index(['target', 'ids', 'date', 'flag', 'user', 'text'], dtype='object')\n"
          ]
        }
      ],
      "source": [
        "#column names\n",
        "print(df.columns)"
      ]
    },
    {
      "cell_type": "code",
      "execution_count": null,
      "id": "0d7d8735",
      "metadata": {
        "id": "0d7d8735",
        "outputId": "183215b8-dbb4-420a-8e9a-5345cd465980"
      },
      "outputs": [
        {
          "name": "stdout",
          "output_type": "stream",
          "text": [
            "0\n"
          ]
        }
      ],
      "source": [
        "#checking for null/missing values\n",
        "print(df.isnull().sum().sum())"
      ]
    },
    {
      "cell_type": "code",
      "execution_count": null,
      "id": "6e734b5d",
      "metadata": {
        "id": "6e734b5d",
        "outputId": "0f87cd4e-c99e-47cc-e92d-00679e442d7d"
      },
      "outputs": [
        {
          "data": {
            "image/png": "[encoded data removed]",
            "text/plain": [
              "<Figure size 1152x720 with 1 Axes>"
            ]
          },
          "metadata": {
            "needs_background": "light"
          },
          "output_type": "display_data"
        }
      ],
      "source": [
        "#original dataset visualization\n",
        "plt.figure(figsize=(16,10))\n",
        "sns.countplot(x='target',data=df)\n",
        "plt.legend(['Negative','Positive'])\n",
        "plt.xlabel('Polarity')\n",
        "plt.ylabel('Count')\n",
        "plt.title('Number of positive and negative reviews in the original dataset')\n",
        "plt.show()"
      ]
    },
    {
      "cell_type": "markdown",
      "id": "d2be5a09",
      "metadata": {
        "id": "d2be5a09"
      },
      "source": [
        "We see that there are equal number of positive and negative labelled tweets in the dataset"
      ]
    },
    {
      "cell_type": "markdown",
      "id": "71beea2b",
      "metadata": {
        "id": "71beea2b"
      },
      "source": [
        "\n",
        "\n",
        "```\n",
        "# This is formatted as code\n",
        "```\n",
        "\n",
        "### Data Preprocessing\n",
        "* Now as we have got a summary of the data present with us, we now proceed\n",
        "and clean the data.\n",
        "* This is an important step in any model building project\n",
        "as dirty and sometimes even a large amount of data can make our work difficult.\n",
        "* Hence, it is essential to pre-process the data before proceeding.\n",
        "*This involves remocing all the unnecessary urls, hashtags, geographic locations,\n",
        "repeaed words(here prepositions, conjunctions, pronounds, nouns which do not\n",
        "actually represent the emotion behind the tweet are removed), numbers, etc.,."
      ]
    },
    {
      "cell_type": "code",
      "execution_count": null,
      "id": "c95e93f2",
      "metadata": {
        "id": "c95e93f2",
        "outputId": "8492cafe-ae2f-436a-8e92-d8d8612282fc"
      },
      "outputs": [
        {
          "name": "stdout",
          "output_type": "stream",
          "text": [
            "         target                                               text\n",
            "333815        0                           no don't turn the table \n",
            "1442505       4  Thx to the golden child of wisdom and compassi...\n",
            "1026840       4  @DaneDeezay yes okay, I like mutha fuckin' rus...\n",
            "987661        4  Happy Monday everyone! Let's make this a great...\n",
            "624849        0  So bored at work  .......... Oh and GloMineral...\n"
          ]
        }
      ],
      "source": [
        "#creating a dataframe using the 'target' and 'text' columns\n",
        "tweet_data=df[['target','text']]\n",
        "print(tweet_data.sample(5))"
      ]
    },
    {
      "cell_type": "code",
      "execution_count": null,
      "id": "300c96a4",
      "metadata": {
        "scrolled": true,
        "id": "300c96a4",
        "outputId": "16db0b3e-d2a8-4ea4-ffd5-d7bfae1aac6f"
      },
      "outputs": [
        {
          "data": {
            "text/plain": [
              "0    @switchfoot http://twitpic.com/2y1zl - awww, t...\n",
              "1    is upset that he can't update his facebook by ...\n",
              "2    @kenichan i dived many times for the ball. man...\n",
              "3      my whole body feels itchy and like its on fire \n",
              "4    @nationwideclass no, it's not behaving at all....\n",
              "Name: text, dtype: object"
            ]
          },
          "execution_count": 130,
          "metadata": {},
          "output_type": "execute_result"
        }
      ],
      "source": [
        "#converting all the 20000 tweets into lowercase strings\n",
        "tweet_data['text']=tweet_data['text'].str.lower()\n",
        "tweet_data['text'].head(5)"
      ]
    },
    {
      "cell_type": "markdown",
      "id": "bfe9b251",
      "metadata": {
        "id": "bfe9b251"
      },
      "source": [
        "**Defining the stopwords to be removed**"
      ]
    },
    {
      "cell_type": "code",
      "execution_count": null,
      "id": "f4b32ce8",
      "metadata": {
        "id": "f4b32ce8"
      },
      "outputs": [],
      "source": [
        "stopwordlist = ['a', 'about', 'above', 'after', 'again', 'ain', 'all', 'am', 'an',\n",
        "             'and','any','are', 'as', 'at', 'be', 'because', 'been', 'before',\n",
        "             'being', 'below', 'between','both', 'by', 'can', 'd', 'did', 'do',\n",
        "             'does', 'doing', 'down', 'during', 'each','few', 'for', 'from',\n",
        "             'further', 'had', 'has', 'have', 'having', 'he', 'her', 'here',\n",
        "             'hers', 'herself', 'him', 'himself', 'his', 'how', 'i', 'if', 'in',\n",
        "             'into','is', 'it', 'its', 'itself', 'just', 'll', 'm', 'ma',\n",
        "             'me', 'more', 'most','my', 'myself', 'now', 'o', 'of', 'on', 'once',\n",
        "             'only', 'or', 'other', 'our', 'ours','ourselves', 'out', 'own', 're','s',\n",
        "                'same', 'she', \"shes\", 'should', \"shouldve\",'so', 'some', 'such',\n",
        "             't', 'than', 'that', \"thatll\", 'the', 'their', 'theirs', 'them',\n",
        "             'themselves', 'then', 'there', 'these', 'they', 'this', 'those',\n",
        "             'through', 'to', 'too','under', 'until', 'up', 've', 'very', 'was',\n",
        "             'we', 'were', 'what', 'when', 'where','which','while', 'who', 'whom',\n",
        "             'why', 'will', 'with', 'won', 'y', 'you', \"youd\",\"youll\", \"youre\",\n",
        "             \"youve\", 'your', 'yours', 'yourself', 'yourselves','u','r','im']"
      ]
    },
    {
      "cell_type": "markdown",
      "id": "2e19760b",
      "metadata": {
        "id": "2e19760b"
      },
      "source": [
        "**Removing the unnecessary stop words**\n"
      ]
    },
    {
      "cell_type": "code",
      "execution_count": null,
      "id": "c1112763",
      "metadata": {
        "scrolled": true,
        "id": "c1112763",
        "outputId": "92e4eddf-d532-4c83-ef12-aa6582813722"
      },
      "outputs": [
        {
          "data": {
            "text/plain": [
              "0    @switchfoot http://twitpic.com/2y1zl - awww, t...\n",
              "1    upset can't update facebook texting it... migh...\n",
              "2    @kenichan dived many times ball. managed save ...\n",
              "3                     whole body feels itchy like fire\n",
              "4    @nationwideclass no, it's not behaving all. i'...\n",
              "Name: text, dtype: object"
            ]
          },
          "execution_count": 132,
          "metadata": {},
          "output_type": "execute_result"
        }
      ],
      "source": [
        "STOPWORDS = set(stopwordlist)\n",
        "\n",
        "### this function removes the stopwords from the text\n",
        "def remove_stopwords(text):\n",
        "    return \" \".join([word for word in str(text).split() if word not in STOPWORDS])\n",
        "\n",
        "tweet_data['text'] = tweet_data['text'].apply(lambda text: remove_stopwords(text))\n",
        "tweet_data['text'].head()"
      ]
    },
    {
      "cell_type": "markdown",
      "id": "fd5e7977",
      "metadata": {
        "id": "fd5e7977"
      },
      "source": [
        "**Removing repeated words**"
      ]
    },
    {
      "cell_type": "code",
      "execution_count": null,
      "id": "b192b67f",
      "metadata": {
        "id": "b192b67f",
        "outputId": "ade33d3a-e3bb-4897-ff71-af4b8b46a959"
      },
      "outputs": [
        {
          "data": {
            "text/plain": [
              "0    @switchfoot http://twitpic.com/21zl - awww, th...\n",
              "1    upset can't update facebook texting it... migh...\n",
              "2    @kenichan dived many times ball. managed save ...\n",
              "3                     whole body feels itchy like fire\n",
              "4    @nationwideclass no, it's not behaving all. i'...\n",
              "Name: text, dtype: object"
            ]
          },
          "execution_count": 133,
          "metadata": {},
          "output_type": "execute_result"
        }
      ],
      "source": [
        "### this function removes any repeated words from the text\n",
        "def removing_repeating_char(text):\n",
        "    return re.sub(r'(.)1+', r'1', text)\n",
        "\n",
        "tweet_data['text'] = tweet_data['text'].apply(lambda x: removing_repeating_char(x))\n",
        "tweet_data['text'].head()"
      ]
    },
    {
      "cell_type": "markdown",
      "id": "ce68828a",
      "metadata": {
        "id": "ce68828a"
      },
      "source": [
        "**Removing URLs from the data**"
      ]
    },
    {
      "cell_type": "code",
      "execution_count": null,
      "id": "69b9ec2f",
      "metadata": {
        "id": "69b9ec2f",
        "outputId": "392fb68c-2e81-4af0-f918-e968810a5b90"
      },
      "outputs": [
        {
          "data": {
            "text/plain": [
              "0    @switchfoot  s bummer. shoulda got david carr ...\n",
              "1    upset can't update facebook texting it... migh...\n",
              "2    @kenichan dived many times ball. managed save ...\n",
              "3                     whole body feels itchy like fire\n",
              "4    @nationwideclass no, it's not behaving all. i'...\n",
              "Name: text, dtype: object"
            ]
          },
          "execution_count": 134,
          "metadata": {},
          "output_type": "execute_result"
        }
      ],
      "source": [
        "### this function removes urls from the text if any\n",
        "def removing_URLs(text):\n",
        "    return re.sub('((www.[^s]+)|(https?://[^s]+))',' ',text)\n",
        "\n",
        "tweet_data['text'] = tweet_data['text'].apply(lambda x: removing_URLs(x))\n",
        "tweet_data['text'].head()"
      ]
    },
    {
      "cell_type": "markdown",
      "id": "e480abf2",
      "metadata": {
        "id": "e480abf2"
      },
      "source": [
        "**Removing numericals**"
      ]
    },
    {
      "cell_type": "code",
      "execution_count": null,
      "id": "33882bc4",
      "metadata": {
        "id": "33882bc4",
        "outputId": "de1c4895-2512-4f4a-fffb-966fe54b8fe4"
      },
      "outputs": [
        {
          "data": {
            "text/plain": [
              "0    @switchfoot  s bummer. shoulda got david carr ...\n",
              "1    upset can't update facebook texting it... migh...\n",
              "2    @kenichan dived many times ball. managed save ...\n",
              "3                     whole body feels itchy like fire\n",
              "4    @nationwideclass no, it's not behaving all. i'...\n",
              "Name: text, dtype: object"
            ]
          },
          "execution_count": 135,
          "metadata": {},
          "output_type": "execute_result"
        }
      ],
      "source": [
        "### this function removes numerics from text\n",
        "def removing_numbers(data):\n",
        "    return re.sub('[0-9]+', '', data)\n",
        "\n",
        "tweet_data['text'] = tweet_data['text'].apply(lambda x: removing_numbers(x))\n",
        "tweet_data['text'].head()"
      ]
    },
    {
      "cell_type": "markdown",
      "id": "a07d391c",
      "metadata": {
        "id": "a07d391c"
      },
      "source": [
        "### Stemming"
      ]
    },
    {
      "cell_type": "code",
      "execution_count": null,
      "id": "8db1e858",
      "metadata": {
        "id": "8db1e858",
        "outputId": "863332d8-bdd6-4070-9403-eb3b662d03c1"
      },
      "outputs": [
        {
          "data": {
            "text/plain": [
              "0    @switchfoot  s bummer. shoulda got david carr ...\n",
              "1    upset can't update facebook texting it... migh...\n",
              "2    @kenichan dived many times ball. managed save ...\n",
              "3                     whole body feels itchy like fire\n",
              "4    @nationwideclass no, it's not behaving all. i'...\n",
              "Name: text, dtype: object"
            ]
          },
          "execution_count": 136,
          "metadata": {},
          "output_type": "execute_result"
        }
      ],
      "source": [
        "st = nltk.PorterStemmer()\n",
        "def stemming_on_tweets(data):\n",
        "    text = [st.stem(word) for word in data]\n",
        "    return data\n",
        "\n",
        "tweet_data['text']= tweet_data['text'].apply(lambda x: stemming_on_tweets(x))\n",
        "tweet_data['text'].head()"
      ]
    },
    {
      "cell_type": "code",
      "execution_count": null,
      "id": "6b352527",
      "metadata": {
        "id": "6b352527"
      },
      "outputs": [],
      "source": [
        "X=tweet_data.text.astype(str)\n",
        "y=tweet_data.target.astype(str)"
      ]
    },
    {
      "cell_type": "markdown",
      "id": "dc449ec7",
      "metadata": {
        "id": "dc449ec7"
      },
      "source": [
        "### Splitting the dataset for training and testing\n",
        "Here, the dataset is split in 3:1 ratio for training and testing respectively."
      ]
    },
    {
      "cell_type": "code",
      "execution_count": null,
      "id": "3a56395e",
      "metadata": {
        "id": "3a56395e"
      },
      "outputs": [],
      "source": [
        "# Separating the 95% data for training data and 5% for testing data\n",
        "X_train, X_test, y_train, y_test = train_test_split(X,y,test_size = 0.25, random_state =1)"
      ]
    },
    {
      "cell_type": "markdown",
      "id": "b2c5356a",
      "metadata": {
        "id": "b2c5356a"
      },
      "source": [
        "###  Vectorization\n",
        "\n",
        "The next step is to vectorize the collection of words into a vector of tokens"
      ]
    },
    {
      "cell_type": "code",
      "execution_count": null,
      "id": "59653048",
      "metadata": {
        "id": "59653048",
        "outputId": "27ac12c2-74a9-4bd9-f55c-2169eab0315d"
      },
      "outputs": [
        {
          "name": "stdout",
          "output_type": "stream",
          "text": [
            "No. of feature_words:  500000\n"
          ]
        }
      ],
      "source": [
        "vectorizer = TfidfVectorizer(ngram_range=(1,2), max_features=500000)\n",
        "vectorizer.fit(X_train)\n",
        "print('No. of feature_words: ', len(vectorizer.get_feature_names()))"
      ]
    },
    {
      "cell_type": "code",
      "execution_count": null,
      "id": "1c3ef9b4",
      "metadata": {
        "id": "1c3ef9b4"
      },
      "outputs": [],
      "source": [
        "X_train = vectorizer.transform(X_train)\n",
        "X_test = vectorizer.transform(X_test)"
      ]
    },
    {
      "cell_type": "markdown",
      "id": "badb0523",
      "metadata": {
        "id": "badb0523"
      },
      "source": [
        "### **Building function for model evaluation**"
      ]
    },
    {
      "cell_type": "code",
      "execution_count": null,
      "id": "8064dac4",
      "metadata": {
        "id": "8064dac4"
      },
      "outputs": [],
      "source": [
        "|def model_evaluation(model):\n",
        "\n",
        "# Predict values for Test dataset\n",
        "    y_pred = model.predict(X_test)\n",
        "\n",
        "# Computing and plotting the Confusion matrix\n",
        "    cf_matrix = confusion_matrix(y_test, y_pred)\n",
        "    print(cf_matrix)\n",
        "    sns.heatmap(cf_matrix,fmt='d',cmap='BuPu',annot=True)\n",
        "    plt.xlabel('Predicted Values')\n",
        "    plt.ylabel('Actual Values')\n",
        "    plt.title('Confusion Matrix')\n",
        "    print(accuracy_score(y_test,y_pred))"
      ]
    },
    {
      "cell_type": "markdown",
      "id": "55287d32",
      "metadata": {
        "id": "55287d32"
      },
      "source": [
        "### Model building and training\n",
        "Now the model is tested using the train dataset and the accuracy and correctness is represented through a confusion matrix.\n",
        "* Building model using logistic regression method.\n",
        "* Train the dataset.\n",
        "* Test the model using test dataset and predict the results.\n",
        "* Evaluate the model"
      ]
    },
    {
      "cell_type": "markdown",
      "id": "606f674e",
      "metadata": {
        "id": "606f674e"
      },
      "source": [
        "### (a) Logistic Regression Model"
      ]
    },
    {
      "cell_type": "code",
      "execution_count": null,
      "id": "e5aa05f7",
      "metadata": {
        "id": "e5aa05f7",
        "outputId": "bef369e3-f27e-4748-ab37-a44a1cb14699"
      },
      "outputs": [
        {
          "name": "stdout",
          "output_type": "stream",
          "text": [
            "[[160566  39683]\n",
            " [ 34385 165366]]\n",
            "0.81483\n"
          ]
        },
        {
          "data": {
            "image/png": "[encoded data removed]",
            "text/plain": [
              "<Figure size 432x288 with 2 Axes>"
            ]
          },
          "metadata": {
            "needs_background": "light"
          },
          "output_type": "display_data"
        }
      ],
      "source": [
        "logistic_model = LogisticRegression(C = 2, max_iter = 1000, n_jobs=-1)\n",
        "logistic_model.fit(X_train, y_train)\n",
        "y_pred_logistic = logistic_model.predict(X_test)\n",
        "model_evaluation(logistic_model)"
      ]
    },
    {
      "cell_type": "code",
      "execution_count": null,
      "id": "5339ed0a",
      "metadata": {
        "id": "5339ed0a"
      },
      "outputs": [],
      "source": [
        "def predict_emotion(s):\n",
        "    s=[s]\n",
        "    s=remove_stopwords(s)\n",
        "    s=removing_repeating_char(s)\n",
        "    s=removing_URLs(s)\n",
        "    s=removing_numbers(s)\n",
        "    s=removing_numbers(s)\n",
        "    s=stemming_on_tweets(s)\n",
        "    s=vectorizer.transform([s])\n",
        "    ans=logistic_model.predict(s)\n",
        "    if ans=='4':\n",
        "        return \"Sentiment: Positive\"\n",
        "    elif ans=='0':\n",
        "        return \"Sentiment: Negative\""
      ]
    },
    {
      "cell_type": "code",
      "execution_count": null,
      "id": "4b8c43b6",
      "metadata": {
        "id": "4b8c43b6",
        "outputId": "08a4c127-bca3-4d16-c938-d8f356ab89e7"
      },
      "outputs": [
        {
          "name": "stdout",
          "output_type": "stream",
          "text": [
            "Sentiment: Positive\n"
          ]
        }
      ],
      "source": [
        "# random text input\n",
        "print(predict_emotion('I liked the food at the restaurant'))"
      ]
    },
    {
      "cell_type": "code",
      "execution_count": null,
      "id": "e991b00c",
      "metadata": {
        "id": "e991b00c"
      },
      "outputs": [],
      "source": [
        "#give custom user input\n",
        "user_input=input()\n",
        "print(predict_emotion(user_input))"
      ]
    }
  ],
  "metadata": {
    "kernelspec": {
      "display_name": "Python 3 (ipykernel)",
      "language": "python",
      "name": "python3"
    },
    "language_info": {
      "codemirror_mode": {
        "name": "ipython",
        "version": 3
      },
      "file_extension": ".py",
      "mimetype": "text/x-python",
      "name": "python",
      "nbconvert_exporter": "python",
      "pygments_lexer": "ipython3",
      "version": "3.9.7"
    },
    "colab": {
      "provenance": []
    }
  },
  "nbformat": 4,
  "nbformat_minor": 5
}